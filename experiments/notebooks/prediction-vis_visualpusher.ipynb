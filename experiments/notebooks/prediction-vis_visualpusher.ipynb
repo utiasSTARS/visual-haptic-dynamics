{
 "cells": [
  {
   "cell_type": "markdown",
   "metadata": {},
   "source": [
    "## Load data"
   ]
  },
  {
   "cell_type": "code",
   "execution_count": 4,
   "metadata": {},
   "outputs": [],
   "source": [
    "import numpy as np\n",
    "import _pickle as pkl\n",
    "import torch\n",
    "import torch.nn as nn\n",
    "from torchvision import transforms\n",
    "%matplotlib inline \n",
    "import matplotlib.pyplot as plt\n",
    "import os, sys, time\n",
    "sys.path.append('../..')\n",
    "from utils import set_seed_torch, rgb2gray\n",
    "set_seed_torch(3)\n",
    "from argparse import Namespace\n",
    "import json\n",
    "from utils import load_models, load_vh_models, frame_stack"
   ]
  },
  {
   "cell_type": "code",
   "execution_count": 5,
   "metadata": {},
   "outputs": [],
   "source": [
    "class ObjectView(object):\n",
    "    def __init__(self, d): self.__dict__ = d\n",
    "        \n",
    "args = ObjectView({'res': 64,\n",
    " 'dataset_path': '/home/olimoyo/visual-haptic-dynamics/experiments/data/datasets/{}'\n",
    "                   .format(\"visual_haptic_2D_len16_osc_withGT_8C12919B740845539C0E75B5CBAF7965.pkl\"),\n",
    " 'models_dir': '/home/olimoyo/visual-haptic-dynamics/saved_models/{}'\n",
    "                   .format(\"vaughan/osc/\"),\n",
    " 'device': 'cuda:1',\n",
    " 'n_examples': 5,\n",
    " 'n_pred': 8,\n",
    "})\n",
    "\n",
    "def load_models_dir(models_dir):\n",
    "    \"\"\"Load hyperparameters from trained model.\"\"\"\n",
    "    dict_of_models = {}\n",
    "    for filedir in os.listdir(models_dir):\n",
    "        fullpath = os.path.join(models_dir, filedir)\n",
    "        if os.path.isdir(fullpath):\n",
    "            with open(os.path.join(fullpath, 'hyperparameters.txt'), 'r') as fp:\n",
    "                dict_of_models[fullpath] = Namespace(**json.load(fp))\n",
    "    return dict_of_models"
   ]
  },
  {
   "cell_type": "code",
   "execution_count": 6,
   "metadata": {},
   "outputs": [],
   "source": [
    "with open(args.dataset_path, 'rb') as f:\n",
    "    raw_data = pkl.load(f)\n",
    "\n",
    "data = {}\n",
    "data['img_rgb'] = torch.from_numpy(raw_data[\"img\"].transpose(0, 1, 4, 2, 3)).int().to(device=args.device)\n",
    "data['img_gray'] = torch.from_numpy(rgb2gray(raw_data[\"img\"]).transpose(0, 1, 4, 2, 3)).float().to(device=args.device)\n",
    "data['haptic'] = torch.from_numpy(raw_data['ft']).float().to(device=args.device) / 100.0\n",
    "data['arm'] = torch.from_numpy(raw_data['arm']).float().to(device=args.device)\n",
    "\n",
    "data['actions'] = torch.from_numpy(raw_data[\"action\"]).to(device=args.device).float()"
   ]
  },
  {
   "cell_type": "markdown",
   "metadata": {},
   "source": [
    "## Visualize"
   ]
  },
  {
   "cell_type": "code",
   "execution_count": 13,
   "metadata": {
    "scrolled": false
   },
   "outputs": [
    {
     "name": "stdout",
     "output_type": "stream",
     "text": [
      "Loading models in path:  /home/olimoyo/visual-haptic-dynamics/saved_models/vaughan/osc/nstep2_z16_net512_l0_lm_osc_v_r0.95_kl0.80_lr3e4\n",
      "torch.Size([5, 2, 64, 64]) torch.Size([5, 2, 64, 64])\n",
      "Loading models in path:  /home/olimoyo/visual-haptic-dynamics/saved_models/vaughan/osc/nstep2_z16_net512_l0_lm_osc_vha_r0.95_kl0.80_lr3e4\n",
      "torch.Size([5, 2, 64, 64]) torch.Size([5, 2, 64, 64])\n",
      "Loading models in path:  /home/olimoyo/visual-haptic-dynamics/saved_models/vaughan/osc/z16_net512_l0_lm_ul_osc_v_r0.95_kl0.80_lr3e4\n",
      "torch.Size([5, 2, 64, 64]) torch.Size([5, 2, 64, 64])\n",
      "Loading models in path:  /home/olimoyo/visual-haptic-dynamics/saved_models/vaughan/osc/z16_net512_l0_lm_osc_vha_r0.95_kl0.80_lr3e4\n",
      "torch.Size([5, 2, 64, 64]) torch.Size([5, 2, 64, 64])\n"
     ]
    }
   ],
   "source": [
    "dict_of_models = load_models_dir(args.models_dir)\n",
    "\n",
    "with torch.no_grad():\n",
    "    for path, model_args in dict_of_models.items():\n",
    "            \n",
    "        nets = load_vh_models(path=path, args=model_args, mode='eval', device=args.device)\n",
    "        \n",
    "        if model_args.dim_x[0] == 1:\n",
    "            img_key = 'img_gray'\n",
    "        elif model_args.dim_x[0] == 3:\n",
    "            img_key = 'img_rgb'\n",
    "        \n",
    "        ii = np.random.randint(data[img_key].shape[0] // args.n_examples)\n",
    "        batch_range = range(args.n_examples*ii, args.n_examples*(ii+1))\n",
    "        start_idx = 0\n",
    "        test_batch = {k:v[batch_range, start_idx:] for k,v in data.items()}\n",
    "        \n",
    "        T = model_args.frame_stacks\n",
    "\n",
    "        x_img = test_batch[img_key][:, :(T + 1 + args.n_pred)]\n",
    "        x_img_i = frame_stack(test_batch[img_key][:, :(T + 1)] , frames=T)[:, 0] \n",
    "        x_ft_i = test_batch['haptic'][:, T:(T + 1)]\n",
    "        x_arm_i = test_batch['arm'][:, T:(T + 1)]\n",
    "        u = test_batch['actions'][:, (T + 1):(T + 1 + args.n_pred)] \n",
    "        \n",
    "        if model_args.context in [\"initial_latent_state\", \"initial_image\"]:\n",
    "            ctx_img = x_img_i\n",
    "        elif model_args.context in [\"goal_latent_state\", \"goal_image\"]:\n",
    "            ctx_img = frame_stack(test_batch[img_key][:, (T - 1 + args.n_pred):(T + 1 + args.n_pred)], frames=T)[:, 0] \n",
    "            \n",
    "        # Roll-out or predictions\n",
    "        # Context modality\n",
    "        if model_args.context_modality != \"none\":\n",
    "            if model_args.context_modality == \"joint\": \n",
    "                ctx_modality = torch.cat((x_ft_i, x_arm_i), dim=-1) # (n, l, f, 12)\n",
    "            elif model_args.context_modality == \"ft\": \n",
    "                ctx_modality = x_ft_i\n",
    "            elif model_args.context_modality == \"arm\":\n",
    "                ctx_modality = x_arm_i\n",
    "            ctx_modality = ctx_modality.float().to(device=args.device) # (n, l, f, 6)\n",
    "            ctx_modality = ctx_modality.transpose(-1, -2)\n",
    "            ctx_modality = ctx_modality.reshape(-1, *ctx_modality.shape[2:])  \n",
    "        \n",
    "        if args.context in [\"initial_image\", \"goal_image\"]:\n",
    "            x_img_i = torch.cat((x_img_i, ctx_img), dim=1)\n",
    "                \n",
    "        # Encode\n",
    "        z_all_enc = []\n",
    "\n",
    "        z_img = nets[\"img_enc\"](x_img_i)\n",
    "        z_all_enc.append(z_img)              \n",
    "\n",
    "        if model_args.context_modality != \"none\":\n",
    "            z_context = nets[\"context_enc\"](ctx_modality)\n",
    "            z_all_enc.append(z_context)\n",
    "            \n",
    "        if model_args.context in [\"initial_latent_state\", \"goal_latent_state\"]:\n",
    "            z_img_context = nets[\"context_img_enc\"](ctx_img)\n",
    "            z_all_enc.append(z_img_context)\n",
    "\n",
    "        # Concatenate modalities and mix\n",
    "        z_cat_enc = torch.cat(z_all_enc, dim=1)\n",
    "        z_i, mu_z_i, logvar_z_i = nets[\"mix\"](z_cat_enc)\n",
    "        var_z_i = torch.diag_embed(torch.exp(logvar_z_i))\n",
    "        h_i = None\n",
    "\n",
    "#         z_hat = torch.zeros((args.n_examples, (1 + args.n_pred), model_args.dim_z)).to(device=args.device)\n",
    "#         z_hat[:, 0] = z_i\n",
    "        \n",
    "#         # Predict\n",
    "#         for jj in range(args.n_pred):\n",
    "#             z_ip1, mu_z_ip1, var_z_ip1, h_ip1 = nets[\"dyn\"](\n",
    "#                 z_t=z_i, \n",
    "#                 mu_t=mu_z_i, \n",
    "#                 var_t=var_z_i, \n",
    "#                 u=u[:, jj], \n",
    "#                 h_0=h_i, \n",
    "#                 single=True\n",
    "#             )\n",
    "\n",
    "#             z_hat[:, jj + 1] = mu_z_ip1\n",
    "#             z_i, mu_z_i, var_z_i, h_i = z_ip1, mu_z_ip1, var_z_ip1, h_ip1    \n",
    "                    \n",
    "#         # Decode\n",
    "#         z_all_dec = []\n",
    "#         z_all_dec.append(z_hat)\n",
    "\n",
    "#         if model_args.context==\"initial_latent_state\" or model_args.context==\"goal_latent_state\":\n",
    "#             z_img_context_rep = z_img_context.unsqueeze(1).repeat(1, (args.n_pred + 1), 1)\n",
    "#             z_all_dec.append(z_img_context_rep)\n",
    "        \n",
    "#         z_cat_dec = torch.cat(z_all_dec, dim=-1)\n",
    "        \n",
    "#         x_hat = nets[\"img_dec\"](z_cat_dec.reshape(-1, *z_cat_dec.shape[2:]))\n",
    "#         x_hat = x_hat.reshape(args.n_examples, (args.n_pred + 1), *x_hat.shape[1:])\n",
    "\n",
    "#         # Move to cpu, np\n",
    "#         x_hat = x_hat.cpu().numpy()\n",
    "#         x_img = x_img.cpu().numpy()\n",
    "\n",
    "#         mse = np.sum((x_hat[:, 1:, 0].reshape(args.n_examples, args.n_pred, -1) - \n",
    "#                       x_img[:, 2:, 0].reshape(args.n_examples, args.n_pred, -1))**2, axis=2)\n",
    "\n",
    "#         # Plotting\n",
    "#         for bb in range(args.n_examples):\n",
    "#             columns = T + 1 + args.n_pred\n",
    "#             rows = 2\n",
    "#             fig=plt.figure(figsize=(16, 2))\n",
    "#             fig.suptitle('frame_stacks = {}, predictions = {}'.format(T, args.n_pred))\n",
    "#             for ii in range(columns*rows):\n",
    "#                 if ii<((columns*rows)/2):\n",
    "#                     img = x_img[bb,ii,0,:,:]\n",
    "#                 else:\n",
    "#                     idx = int(ii-((columns*rows)/2))\n",
    "#                     if idx < T:\n",
    "#                         img = np.zeros((model_args.dim_x[1], model_args.dim_x[2]))\n",
    "#                     else:\n",
    "#                         img = x_hat[bb,idx-1,0,:,:]\n",
    "#                 fig.add_subplot(rows, columns, ii+1)\n",
    "#                 plt.imshow(img, cmap=\"gray\")\n",
    "                \n",
    "#                 plt.axis('off')\n",
    "#             print(\"MSE of predictions: \", mse[bb])\n",
    "#             plt.subplots_adjust(wspace=0.1, hspace=0.1)\n",
    "#             plt.show()"
   ]
  },
  {
   "cell_type": "code",
   "execution_count": null,
   "metadata": {},
   "outputs": [],
   "source": []
  },
  {
   "cell_type": "code",
   "execution_count": null,
   "metadata": {},
   "outputs": [],
   "source": []
  }
 ],
 "metadata": {
  "kernelspec": {
   "display_name": "Python 3",
   "language": "python",
   "name": "python3"
  },
  "language_info": {
   "codemirror_mode": {
    "name": "ipython",
    "version": 3
   },
   "file_extension": ".py",
   "mimetype": "text/x-python",
   "name": "python",
   "nbconvert_exporter": "python",
   "pygments_lexer": "ipython3",
   "version": "3.8.3"
  },
  "varInspector": {
   "cols": {
    "lenName": 16,
    "lenType": 16,
    "lenVar": 40
   },
   "kernels_config": {
    "python": {
     "delete_cmd_postfix": "",
     "delete_cmd_prefix": "del ",
     "library": "var_list.py",
     "varRefreshCmd": "print(var_dic_list())"
    },
    "r": {
     "delete_cmd_postfix": ") ",
     "delete_cmd_prefix": "rm(",
     "library": "var_list.r",
     "varRefreshCmd": "cat(var_dic_list()) "
    }
   },
   "types_to_exclude": [
    "module",
    "function",
    "builtin_function_or_method",
    "instance",
    "_Feature"
   ],
   "window_display": false
  }
 },
 "nbformat": 4,
 "nbformat_minor": 2
}
