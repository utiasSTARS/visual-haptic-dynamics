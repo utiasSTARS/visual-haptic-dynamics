{
 "cells": [
  {
   "cell_type": "markdown",
   "metadata": {},
   "source": [
    "## Load data"
   ]
  },
  {
   "cell_type": "code",
   "execution_count": 2,
   "metadata": {},
   "outputs": [],
   "source": [
    "import numpy as np\n",
    "import _pickle as pkl\n",
    "import torch\n",
    "from torchvision import transforms\n",
    "%matplotlib inline \n",
    "import matplotlib.pyplot as plt\n",
    "from matplotlib import animation\n",
    "from IPython.display import HTML\n",
    "import os, sys, time\n",
    "sys.path.append('..')\n",
    "from utils import (set_seed_torch, Normalize)\n",
    "set_seed_torch(3)"
   ]
  },
  {
   "cell_type": "code",
   "execution_count": 4,
   "metadata": {},
   "outputs": [],
   "source": [
    "class ObjectView(object):\n",
    "    def __init__(self, d): self.__dict__ = d\n",
    "        \n",
    "args = ObjectView({'res': 64,\n",
    " 'dataset_path': '/media/m2-drive/datasets/pendulum-srl-sim/{}'\n",
    "                   .format(\"pendulum64_total_2048_traj_16_repeat_2_with_angle_train.pkl\"),\n",
    " 'models_path': '/home/olimoyo/latent-metric-control/saved_models/{}'\n",
    "                   .format(\"05-06-20_17:59:38_traj32_base_latent_bnFalse\"),\n",
    " 'device': 'cuda:0',\n",
    " 'batch_size': 1,\n",
    " 'n_frames_init': 4,\n",
    " 'n_prediction': 11,\n",
    "})"
   ]
  },
  {
   "cell_type": "code",
   "execution_count": 5,
   "metadata": {},
   "outputs": [],
   "source": [
    "with open(args.dataset_path, 'rb') as f:\n",
    "    data = pkl.load(f)\n",
    "    \n",
    "imgs_cached, actions, gt_state = data[0], data[1], data[2]\n",
    "imgs_cached = imgs_cached.reshape(imgs_cached.shape[0], imgs_cached.shape[1], args.res, args.res, 3)\n",
    "imgs = torch.empty((imgs_cached.shape[0], imgs_cached.shape[1], 1, \n",
    "                    imgs_cached.shape[2], imgs_cached.shape[3]), device=args.device)\n",
    "actions = torch.from_numpy(actions).to(device=args.device)\n",
    "\n",
    "transform = transforms.Compose([\n",
    "    transforms.ToPILImage(),\n",
    "    transforms.Grayscale(num_output_channels=1),\n",
    "    transforms.ToTensor(),\n",
    "    Normalize(mean=0.27, var=1.0 - 0.27) # 64x64\n",
    "    ])\n",
    "        \n",
    "for ii in range(imgs_cached.shape[0]):\n",
    "    for jj in range(imgs_cached.shape[1]):\n",
    "        imgs[ii, jj, :, :, :] = t(imgs_cached[ii, jj, :, :, :])"
   ]
  },
  {
   "cell_type": "markdown",
   "metadata": {},
   "source": [
    "## Visualize"
   ]
  },
  {
   "cell_type": "code",
   "execution_count": 3,
   "metadata": {},
   "outputs": [],
   "source": [
    "from utils import load_models\n",
    "from argparse import Namespace\n",
    "import json\n",
    "import torch.nn as nn"
   ]
  },
  {
   "cell_type": "code",
   "execution_count": 17,
   "metadata": {
    "scrolled": false
   },
   "outputs": [
    {
     "name": "stdout",
     "output_type": "stream",
     "text": [
      "Loading models in path:  /home/olimoyo/robust-latent-srl/srl/saved_models/pendulum/uni/traj16_constant_no_BN/01-15-20_20:36:07_traj16_constant_no_BN\n"
     ]
    },
    {
     "data": {
      "image/png": "[encoded data removed]",
      "text/plain": [
       "<Figure size 1080x216 with 45 Axes>"
      ]
     },
     "metadata": {
      "needs_background": "light"
     },
     "output_type": "display_data"
    }
   ],
   "source": [
    "path_list = []\n",
    "args_list = []\n",
    "\n",
    "for filedir in os.listdir(args.models_path):\n",
    "    fullpath_filedir = os.path.join(args.models_path, filedir)\n",
    "    if os.path.isdir(fullpath_filedir):\n",
    "        path_list.append(fullpath_filedir)\n",
    "        with open(os.path.join(fullpath_filedir, 'hyperparameters.txt'), 'r') as fp:\n",
    "            args_dict = json.load(fp)\n",
    "        args_list.append(Namespace(**args_dict))\n",
    "\n",
    "with torch.no_grad():\n",
    "    for path, args in zip(path_list, args_list):\n",
    "\n",
    "        enc, dec, lgssm = load_models(path, args, device=args.device)\n",
    "        \n",
    "        i = np.random.randint(imgs.shape[0] // BS)\n",
    "        output_nl = None if args.use_binary_ce else nn.Sigmoid()\n",
    "\n",
    "        # Prediction\n",
    "        x_i = imgs[BS*i:BS*(i+1), :T] # each [x0, ..., x_{T-1}], torch.Size([BS, T, 16, 16])\n",
    "        x = imgs[BS*i:BS*(i+1), T:(T+pred_len)]\n",
    "        u = actions[BS*i:BS*(i+1), 1:(T+1), :] # each [u_1, ..., u_T], torch.Size([BS, 15, 1])\n",
    "        u_f = actions[BS*i:BS*(i+1), (T+1):(T+pred_len), :] # [u_T, ..., u_{T+pred_len}]\n",
    "        \n",
    "        #TODO: Roll out\n",
    "        \n",
    "        # Plotting\n",
    "        for bb in range(BS):\n",
    "            columns = T + pred_len\n",
    "            rows = 2\n",
    "            fig=plt.figure(figsize=(15, 3))\n",
    "            fig.suptitle('Predictions T = {}, K = {}'.format(T, pred_len))\n",
    "            for ii in range(columns*rows):\n",
    "                if ii<((columns*rows)/2):\n",
    "                    img = x[bb,ii,0,:,:]\n",
    "                else:\n",
    "                    idx = int(ii-((columns*rows)/2))\n",
    "                    if idx < T:\n",
    "                        img = np.zeros((RES,RES))\n",
    "                    else:\n",
    "                        img = x_hat[bb,idx-2,0,:,:]\n",
    "                fig.add_subplot(rows, columns, ii+1)\n",
    "                plt.imshow(img, cmap=\"gray\")\n",
    "                plt.axis('off')\n",
    "            plt.subplots_adjust(wspace=0.1, hspace=0)\n",
    "            plt.show()"
   ]
  },
  {
   "cell_type": "markdown",
   "metadata": {},
   "source": [
    "### Video"
   ]
  },
  {
   "cell_type": "code",
   "execution_count": null,
   "metadata": {},
   "outputs": [],
   "source": [
    "video = x_pred[0].transpose(0, 2, 3, 1)\n",
    "fig = plt.figure()\n",
    "im = plt.imshow(video[0,:,:,0], cmap='gray')\n",
    "plt.close() # this is required to not display the generated image\n",
    "\n",
    "def init():\n",
    "    im.set_data(video[0,:,:,0])\n",
    "\n",
    "def animate(i):\n",
    "    im.set_data(video[i,:,:,0])\n",
    "    return im\n",
    "\n",
    "pred = animation.FuncAnimation(fig, animate, init_func=init, frames=video.shape[0],\n",
    "                               interval=100)\n",
    "HTML(pred.to_html5_video())"
   ]
  },
  {
   "cell_type": "code",
   "execution_count": null,
   "metadata": {},
   "outputs": [],
   "source": [
    "gt_video = x_pred_gt[0].transpose(0, 2, 3, 1)\n",
    "fig = plt.figure()\n",
    "im = plt.imshow(gt_video[0,:,:,0], cmap='gray')\n",
    "plt.close() # this is required to not display the generated image\n",
    "\n",
    "def init():\n",
    "    im.set_data(gt_video[0,:,:,0])\n",
    "\n",
    "def animate(i):\n",
    "    im.set_data(gt_video[i,:,:,0])\n",
    "    return im\n",
    "\n",
    "gt = animation.FuncAnimation(fig, animate, init_func=init, frames=gt_video.shape[0],\n",
    "                               interval=100)\n",
    "HTML(gt.to_html5_video())"
   ]
  }
 ],
 "metadata": {
  "kernelspec": {
   "display_name": "Python 3",
   "language": "python",
   "name": "python3"
  },
  "language_info": {
   "codemirror_mode": {
    "name": "ipython",
    "version": 3
   },
   "file_extension": ".py",
   "mimetype": "text/x-python",
   "name": "python",
   "nbconvert_exporter": "python",
   "pygments_lexer": "ipython3",
   "version": "3.5.2"
  },
  "varInspector": {
   "cols": {
    "lenName": 16,
    "lenType": 16,
    "lenVar": 40
   },
   "kernels_config": {
    "python": {
     "delete_cmd_postfix": "",
     "delete_cmd_prefix": "del ",
     "library": "var_list.py",
     "varRefreshCmd": "print(var_dic_list())"
    },
    "r": {
     "delete_cmd_postfix": ") ",
     "delete_cmd_prefix": "rm(",
     "library": "var_list.r",
     "varRefreshCmd": "cat(var_dic_list()) "
    }
   },
   "types_to_exclude": [
    "module",
    "function",
    "builtin_function_or_method",
    "instance",
    "_Feature"
   ],
   "window_display": false
  }
 },
 "nbformat": 4,
 "nbformat_minor": 2
}
